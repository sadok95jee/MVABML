{
 "cells": [
  {
   "cell_type": "markdown",
   "metadata": {},
   "source": [
    "# Example: The [New York Taxi dataset](https://www.kaggle.com/c/nyc-taxi-trip-duration/data)"
   ]
  },
  {
   "cell_type": "markdown",
   "metadata": {},
   "source": [
    "This is a large dataset with about 1.5 million data points in 11-dimensional space."
   ]
  },
  {
   "cell_type": "markdown",
   "metadata": {},
   "source": [
    "**Note** We use the [GPyTorch](https://gpytorch.ai/) library to perform Gaussian process optimization and inference, and implement the Titsias [2009] model with it. By default, GPyTorch uses a [conjugate gradient algorithm](https://arxiv.org/pdf/1809.11165.pdf) to perform inference in GPs, circumventing the need for a Cholesky decomposition.\n",
    "\n",
    "**Warning** We recommend running the following code with a GPU available. This code will make your GPU run hot. It might happen that PyTorch runs out of VRAM (GPU memory) because of the size of the data we are regressing."
   ]
  },
  {
   "cell_type": "code",
   "execution_count": 1,
   "metadata": {},
   "outputs": [],
   "source": [
    "%load_ext autoreload\n",
    "%autoreload 2"
   ]
  },
  {
   "cell_type": "code",
   "execution_count": 2,
   "metadata": {},
   "outputs": [
    {
     "name": "stdout",
     "output_type": "stream",
     "text": [
      "cuda\n"
     ]
    }
   ],
   "source": [
    "import pandas as pd\n",
    "import seaborn as sns\n",
    "import matplotlib.pyplot as plt\n",
    "\n",
    "from models.gpyt_regressor import MyGPModel\n",
    "from models.gpyt_sparse import TitsiasSparseGP\n",
    "import torch\n",
    "import torch.nn.functional as F\n",
    "from torch import optim\n",
    "import numpy as np\n",
    "import gpytorch\n",
    "from gpytorch import likelihoods, mlls\n",
    "import tqdm\n",
    "\n",
    "sns.set()\n",
    "np.random.rand(42)\n",
    "torch.manual_seed(42)\n",
    "\n",
    "device = \"cuda\" if torch.cuda.is_available() else \"cpu\"\n",
    "print(device)"
   ]
  },
  {
   "cell_type": "markdown",
   "metadata": {},
   "source": [
    "## Data processing"
   ]
  },
  {
   "cell_type": "code",
   "execution_count": 3,
   "metadata": {},
   "outputs": [],
   "source": [
    "df_train_orig_ = pd.read_csv(\"taxi-data/train.csv\", index_col=\"id\")\n",
    "\n",
    "def process_dataframe(df: pd.DataFrame):\n",
    "    df = df.copy()\n",
    "    for col in ['pickup_datetime', 'dropoff_datetime']:\n",
    "        if col in df.columns:\n",
    "            df[col] = pd.to_datetime(df[col])\n",
    "\n",
    "    df.drop(columns=\"store_and_fwd_flag\", inplace=True)\n",
    "    df.drop(columns=\"vendor_id\", inplace=True)\n",
    "    if 'dropoff_datetime' in df.columns:\n",
    "        df.drop(columns=\"dropoff_datetime\", inplace=True)\n",
    "    df = process_datetime_col(df, \"pickup_datetime\")\n",
    "    return df\n",
    "    \n",
    "def process_datetime_col(df: pd.DataFrame, col, drop=True):\n",
    "    ser = df[col]\n",
    "    ser_month = ser.dt.month\n",
    "    ser_hour = ser.dt.hour\n",
    "    import re\n",
    "    date_col = re.sub('datetime', 'month', col)\n",
    "    df[date_col] = ser_month\n",
    "    time_col = re.sub('datetime', 'hour', col)\n",
    "    df[time_col] = ser_hour\n",
    "    dayoy_col = re.sub('datetime', 'dayofyear', col)\n",
    "    df[dayoy_col] = ser.dt.dayofyear\n",
    "    if drop:\n",
    "        df = df.drop(columns=col)\n",
    "    return df"
   ]
  },
  {
   "cell_type": "code",
   "execution_count": 4,
   "metadata": {},
   "outputs": [],
   "source": [
    "df_train_full = process_dataframe(df_train_orig_)\n",
    "\n",
    "df_test = pd.read_csv(\"taxi-data/test.csv\", index_col=\"id\")\n",
    "df_test = process_dataframe(df_test)"
   ]
  },
  {
   "cell_type": "code",
   "execution_count": 5,
   "metadata": {},
   "outputs": [],
   "source": [
    "# subsample from the dataset | we won't regress on the entire 1.5M point dataset\n",
    "df_train = df_train_full.sample(54000)"
   ]
  },
  {
   "cell_type": "code",
   "execution_count": 6,
   "metadata": {},
   "outputs": [
    {
     "data": {
      "image/png": "[encoded data removed]",
      "text/plain": [
       "<Figure size 640x400 with 1 Axes>"
      ]
     },
     "metadata": {
      "image/png": {
       "height": 387,
       "width": 627
      }
     },
     "output_type": "display_data"
    }
   ],
   "source": [
    "fig = plt.figure(figsize=(8, 5), dpi=80)\n",
    "plt.scatter(df_train.pickup_longitude, df_train.pickup_latitude,\n",
    "            s=.6, alpha=.5)\n",
    "plt.axis('equal')\n",
    "plt.axis('off')\n",
    "plt.tight_layout()"
   ]
  },
  {
   "cell_type": "code",
   "execution_count": 7,
   "metadata": {},
   "outputs": [
    {
     "data": {
      "text/plain": [
       "(54000, 9)"
      ]
     },
     "execution_count": 7,
     "metadata": {},
     "output_type": "execute_result"
    }
   ],
   "source": [
    "df_train.shape"
   ]
  },
  {
   "cell_type": "markdown",
   "metadata": {},
   "source": [
    "The objective function is the RMLSE\n",
    "$$\n",
    "    J(s, \\hat s) = \\sqrt{\\sum_i (\\log(s_i+1) -\\log(\\hat s_i + 1)}\n",
    "$$\n",
    "we will instead predict $y_i := \\log(s_i + 1)$ using the RMSE."
   ]
  },
  {
   "cell_type": "code",
   "execution_count": 8,
   "metadata": {},
   "outputs": [],
   "source": [
    "from sklearn.model_selection import train_test_split\n",
    "from sklearn.preprocessing import StandardScaler"
   ]
  },
  {
   "cell_type": "code",
   "execution_count": 9,
   "metadata": {},
   "outputs": [],
   "source": [
    "y_train = np.log(1 + df_train.trip_duration.values)\n",
    "X_train = df_train.drop(columns=['trip_duration']).values\n",
    "# Split between training points and validation points\n",
    "X_train, X_val, y_train, y_val = train_test_split(X_train, y_train, test_size=4/54)\n",
    "\n",
    "scaler_ = StandardScaler().fit(X_train)\n",
    "X_train = scaler_.transform(X_train)\n",
    "X_val = scaler_.transform(X_val)\n",
    "\n",
    "## Convert to Tensor\n",
    "X_train = torch.from_numpy(X_train).float()\n",
    "y_train = torch.from_numpy(y_train).float()\n",
    "X_val = torch.from_numpy(X_val).float()\n",
    "y_val = torch.from_numpy(y_val).float()"
   ]
  },
  {
   "cell_type": "code",
   "execution_count": 10,
   "metadata": {},
   "outputs": [
    {
     "name": "stdout",
     "output_type": "stream",
     "text": [
      "X train shape: [50000, 8]\n"
     ]
    }
   ],
   "source": [
    "print(\"X train shape:\", list(X_train.shape))"
   ]
  },
  {
   "cell_type": "markdown",
   "metadata": {},
   "source": [
    "## Baseline: linear regression"
   ]
  },
  {
   "cell_type": "code",
   "execution_count": 11,
   "metadata": {},
   "outputs": [],
   "source": [
    "from sklearn.linear_model import LinearRegression\n",
    "from sklearn.metrics import mean_squared_error"
   ]
  },
  {
   "cell_type": "code",
   "execution_count": 12,
   "metadata": {},
   "outputs": [],
   "source": [
    "linreg_ = LinearRegression().fit(X_train, y_train)"
   ]
  },
  {
   "cell_type": "code",
   "execution_count": 13,
   "metadata": {},
   "outputs": [
    {
     "name": "stdout",
     "output_type": "stream",
     "text": [
      "0.7465241\n"
     ]
    }
   ],
   "source": [
    "lin_rmse_ = mean_squared_error(y_val, linreg_.predict(X_val), squared=False)\n",
    "print(lin_rmse_)"
   ]
  },
  {
   "cell_type": "code",
   "execution_count": 14,
   "metadata": {},
   "outputs": [],
   "source": [
    "from sklearn.ensemble import RandomForestRegressor"
   ]
  },
  {
   "cell_type": "code",
   "execution_count": 15,
   "metadata": {},
   "outputs": [],
   "source": [
    "rfreg_ = RandomForestRegressor(100).fit(X_train, y_train)"
   ]
  },
  {
   "cell_type": "code",
   "execution_count": 16,
   "metadata": {},
   "outputs": [
    {
     "name": "stdout",
     "output_type": "stream",
     "text": [
      "0.4588018205127859\n"
     ]
    }
   ],
   "source": [
    "rf_rmse_ = mean_squared_error(y_val, rfreg_.predict(X_val), squared=False)\n",
    "print(rf_rmse_)"
   ]
  },
  {
   "cell_type": "markdown",
   "metadata": {},
   "source": [
    "## GP regression"
   ]
  },
  {
   "cell_type": "code",
   "execution_count": 58,
   "metadata": {},
   "outputs": [],
   "source": [
    "from typing import List\n",
    "\n",
    "import gc\n",
    "\n",
    "gc.collect()\n",
    "torch.cuda.empty_cache()"
   ]
  },
  {
   "cell_type": "markdown",
   "metadata": {},
   "source": [
    "We define the training and validation procedures:"
   ]
  },
  {
   "cell_type": "code",
   "execution_count": 18,
   "metadata": {},
   "outputs": [],
   "source": [
    "def train(model, likelihood: likelihoods.Likelihood, mll, optimizer: optim.Optimizer,\n",
    "          X_train, y_train):\n",
    "    model.train()\n",
    "    likelihood.train()\n",
    "    \n",
    "    optimizer.zero_grad()\n",
    "    X_train = X_train.to(device)\n",
    "    y_train = y_train.to(device)\n",
    "    \"\"\"\n",
    "    def closure():\n",
    "        optimizer.zero_grad()\n",
    "        output = model(X_train)\n",
    "        loss = -mll(output, y_train)\n",
    "        loss.backward()\n",
    "        return loss\n",
    "    \n",
    "    loss = optimizer.step(closure)\n",
    "    \"\"\"\n",
    "    output = model(X_train)\n",
    "    loss = -mll(output, y_train)\n",
    "    loss.backward()\n",
    "    optimizer.step()\n",
    "    \n",
    "    loss = loss.cpu()\n",
    "    return loss.item()\n",
    "\n",
    "def validate(model, likelihood, X_val, y_val):\n",
    "    with torch.no_grad(), gpytorch.settings.max_root_decomposition_size(25):\n",
    "        model.eval()\n",
    "        likelihood.eval()\n",
    "        X_val = X_val.to(device)\n",
    "        y_val = y_val.to(device)\n",
    "        with gpytorch.settings.max_preconditioner_size(40), gpytorch.settings.fast_pred_var(),\\\n",
    "                gpytorch.settings.skip_posterior_variances():\n",
    "            y_val_preddist = likelihood(model(X_val))  # predictive distribution of yval | Xtrain,ytrain\n",
    "        val_loss = F.mse_loss(y_val_preddist.mean, y_val) ** 0.5\n",
    "    \n",
    "        val_loss = val_loss.cpu()\n",
    "        return val_loss.item()"
   ]
  },
  {
   "cell_type": "markdown",
   "metadata": {},
   "source": [
    "### Training"
   ]
  },
  {
   "cell_type": "code",
   "execution_count": 19,
   "metadata": {},
   "outputs": [],
   "source": [
    "results_dict = dict()"
   ]
  },
  {
   "cell_type": "code",
   "execution_count": 20,
   "metadata": {},
   "outputs": [],
   "source": [
    "# empty cell to avoid accidentally overwriting results_dict"
   ]
  },
  {
   "cell_type": "code",
   "execution_count": 71,
   "metadata": {},
   "outputs": [],
   "source": [
    "num_induce_list = [800]"
   ]
  },
  {
   "cell_type": "code",
   "execution_count": null,
   "metadata": {},
   "outputs": [],
   "source": [
    "for num_induce in num_induce_list:\n",
    "    l_hood = likelihoods.GaussianLikelihood()\n",
    "    inducing_idx = np.random.choice(np.arange(X_train.shape[0]), size=num_induce,\n",
    "                                    replace=False)\n",
    "    inducing_pts = X_train[inducing_idx]\n",
    "\n",
    "    model = TitsiasSparseGP(X_train, y_train, inducing_pts, l_hood)\n",
    "    marg_hood = mlls.ExactMarginalLogLikelihood(l_hood, model)\n",
    "    optimizer = optim.Adam(model.parameters(), lr=.05)\n",
    "    # optimizer = optim.LBFGS(model.parameters(), lr=.06)\n",
    "    scheduler = optim.lr_scheduler.ReduceLROnPlateau(optimizer, factor=.5)\n",
    "\n",
    "    model = model.to(device)\n",
    "    l_hood = l_hood.to(device)\n",
    "    \n",
    "    num_epochs = 150\n",
    "\n",
    "    eprange = tqdm.notebook.trange(num_epochs, desc=\"%d pts\" % num_induce)\n",
    "    all_losses = []  # marg losses\n",
    "    all_val_losses = []  # all val RMSE\n",
    "    try:\n",
    "        for epoch in eprange:\n",
    "            loss_ = train(model, l_hood, marg_hood, optimizer, X_train, y_train)\n",
    "            all_losses.append(loss_)\n",
    "            if (epoch + 1) % 5 == 0:\n",
    "                val_loss_ = validate(model, l_hood, X_val, y_val)\n",
    "                all_val_losses.append(val_loss_)\n",
    "            if epoch > 0:\n",
    "                eprange.set_postfix({\"MLL\": loss_, \"Val RMSE\": val_loss_})\n",
    "            else:\n",
    "                eprange.set_postfix({\"MLL\": loss_})\n",
    "            scheduler.step(loss_)\n",
    "        torch.cuda.empty_cache()\n",
    "    finally:\n",
    "        # Record the results\n",
    "        results_dict[num_induce] = [all_losses, all_val_losses]\n",
    "        torch.cuda.empty_cache()"
   ]
  },
  {
   "cell_type": "code",
   "execution_count": null,
   "metadata": {},
   "outputs": [],
   "source": [
    "fig, axes = plt.subplots(1, 2, figsize=(15, 6))\n",
    "\n",
    "for num_, [mlloss, valrmse_] in results_dict.items():\n",
    "    axes[0].plot(mlloss, label=\"%d induc. pts\" % (num_,))\n",
    "    \n",
    "    axes[1].plot(np.arange(0, num_epochs, 5), valrmse_, label=\"%d induc. pts (best RMSE %.4g)\"\n",
    "                 % (num_,  np.min(valrmse_)))\n",
    "\n",
    "axes[0].set_yscale('log')\n",
    "axes[0].legend()\n",
    "axes[0].set_title(\"Marginal log-likelihood\")\n",
    "\n",
    "axes[1].hlines(lin_rmse_, 0, num_epochs, label=\"Linear regression\", color=\"r\", ls='--')\n",
    "axes[1].hlines(rf_rmse_, 0, num_epochs, label=\"RF regression\", color=\"g\", ls='--')\n",
    "axes[1].legend()\n",
    "axes[1].set_title(\"Validation RMSE\")\n",
    "axes[1].set_ylim(0.2, 3)\n",
    "\n",
    "fig.suptitle(\"Titsias GP regression, NYC Taxi \"\n",
    "             \"Trip dataset\\n{:d} points\".format(X_train.shape[0]),\n",
    "             y=1.02)\n",
    "fig.tight_layout()"
   ]
  },
  {
   "cell_type": "code",
   "execution_count": 47,
   "metadata": {},
   "outputs": [],
   "source": [
    "fig.savefig(\"NYCTaxi_Titsias_{:d}pts_Matern32.pdf\".format(X_train.shape[0]),\n",
    "            bbox_inches='tight')\n",
    "fig.savefig(\"NYCTaxi_Titsias_{:d}pts_Matern32.png\".format(X_train.shape[0]),\n",
    "            bbox_inches='tight')"
   ]
  }
 ],
 "metadata": {
  "kernelspec": {
   "display_name": "Python 3",
   "language": "python",
   "name": "python3"
  },
  "language_info": {
   "codemirror_mode": {
    "name": "ipython",
    "version": 3
   },
   "file_extension": ".py",
   "mimetype": "text/x-python",
   "name": "python",
   "nbconvert_exporter": "python",
   "pygments_lexer": "ipython3",
   "version": "3.7.6"
  }
 },
 "nbformat": 4,
 "nbformat_minor": 4
}
